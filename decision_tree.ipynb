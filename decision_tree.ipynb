{
 "cells": [
  {
   "attachments": {},
   "cell_type": "markdown",
   "metadata": {},
   "source": [
    "#Pokémon Decision Tree Classifier"
   ]
  },
  {
   "cell_type": "code",
   "execution_count": 7,
   "metadata": {},
   "outputs": [],
   "source": [
    "#Packages\n",
    "import pandas as pd\n",
    "from sklearn.preprocessing import OneHotEncoder\n",
    "from sklearn.preprocessing import MultiLabelBinarizer"
   ]
  },
  {
   "cell_type": "code",
   "execution_count": 6,
   "metadata": {},
   "outputs": [],
   "source": [
    "\n",
    "pokemon_data = pd.read_csv(\"pokemon.csv\")\n",
    "\n",
    "#Getting rid of identifiers that do not contribute to prediction\n",
    "pokemon_data.drop(columns=['name', 'japanese_name', 'pokedex_number'], inplace=True)"
   ]
  },
  {
   "attachments": {},
   "cell_type": "markdown",
   "metadata": {},
   "source": [
    "##Preprocessing"
   ]
  },
  {
   "cell_type": "code",
   "execution_count": 4,
   "metadata": {},
   "outputs": [
    {
     "name": "stdout",
     "output_type": "stream",
     "text": [
      "['abilities']\n"
     ]
    }
   ],
   "source": [
    "# Preprocessing\n",
    "# One-Hot Encode 'type1' and 'type2'\n",
    "pokemon_data['type2'].fillna('None', inplace=True)\n",
    "pokemon_data = pd.get_dummies(pokemon_data, columns=['type1', 'type2'], drop_first=True)\n",
    "\n",
    "# One-Hot Encode 'classification' (or use frequency encoding if too many categories)\n",
    "pokemon_data = pd.get_dummies(pokemon_data, columns=['classification'], drop_first=True)\n",
    "\n",
    "# Multi-Label Binarization for 'abilities' (splitting abilities into separate binary columns)\n",
    "pokemon_data['abilities'] = pokemon_data['abilities'].apply(lambda x: x.split(', '))\n",
    "mlb = MultiLabelBinarizer()\n",
    "abilities_encoded = pd.DataFrame(mlb.fit_transform(pokemon_data['abilities']), columns=mlb.classes_)\n",
    "pokemon_data = pd.concat([pokemon_data, abilities_encoded], axis=1).drop(columns=['abilities'])\n"
   ]
  }
 ],
 "metadata": {
  "kernelspec": {
   "display_name": "Python 3",
   "language": "python",
   "name": "python3"
  },
  "language_info": {
   "codemirror_mode": {
    "name": "ipython",
    "version": 3
   },
   "file_extension": ".py",
   "mimetype": "text/x-python",
   "name": "python",
   "nbconvert_exporter": "python",
   "pygments_lexer": "ipython3",
   "version": "3.11.4"
  },
  "orig_nbformat": 4
 },
 "nbformat": 4,
 "nbformat_minor": 2
}
