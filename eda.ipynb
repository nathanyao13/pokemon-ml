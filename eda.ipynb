{
 "cells": [
  {
   "attachments": {},
   "cell_type": "markdown",
   "id": "a40b2c30",
   "metadata": {
    "papermill": {
     "duration": 0.002294,
     "end_time": "2025-03-02T23:59:36.876408",
     "exception": false,
     "start_time": "2025-03-02T23:59:36.874114",
     "status": "completed"
    },
    "tags": []
   },
   "source": [
    "# EDA on Pokémon Dataset 1"
   ]
  },
  {
   "attachments": {},
   "cell_type": "markdown",
   "id": "3a2abf47",
   "metadata": {},
   "source": [
    "This dataset is from: https://www.kaggle.com/datasets/rounakbanik/pokemon/data "
   ]
  },
  {
   "cell_type": "code",
   "execution_count": 399,
   "id": "9cb11a4d",
   "metadata": {},
   "outputs": [],
   "source": [
    "#Packages\n",
    "import pandas as pd\n",
    "from sklearn.preprocessing import MultiLabelBinarizer\n",
    "import ast"
   ]
  },
  {
   "cell_type": "code",
   "execution_count": 400,
   "id": "0bfdc72d",
   "metadata": {
    "_cell_guid": "b1076dfc-b9ad-4769-8c92-a6c4dae69d19",
    "_uuid": "8f2839f25d086af736a60e9eeb907d3b93b6e0e5",
    "execution": {
     "iopub.execute_input": "2025-03-02T23:59:36.881047Z",
     "iopub.status.busy": "2025-03-02T23:59:36.880684Z",
     "iopub.status.idle": "2025-03-02T23:59:38.018706Z",
     "shell.execute_reply": "2025-03-02T23:59:38.017741Z"
    },
    "papermill": {
     "duration": 1.142441,
     "end_time": "2025-03-02T23:59:38.020637",
     "exception": false,
     "start_time": "2025-03-02T23:59:36.878196",
     "status": "completed"
    },
    "tags": []
   },
   "outputs": [
    {
     "data": {
      "text/html": [
       "<div>\n",
       "<style scoped>\n",
       "    .dataframe tbody tr th:only-of-type {\n",
       "        vertical-align: middle;\n",
       "    }\n",
       "\n",
       "    .dataframe tbody tr th {\n",
       "        vertical-align: top;\n",
       "    }\n",
       "\n",
       "    .dataframe thead th {\n",
       "        text-align: right;\n",
       "    }\n",
       "</style>\n",
       "<table border=\"1\" class=\"dataframe\">\n",
       "  <thead>\n",
       "    <tr style=\"text-align: right;\">\n",
       "      <th></th>\n",
       "      <th>name</th>\n",
       "      <th>abilities</th>\n",
       "      <th>against_bug</th>\n",
       "      <th>against_dark</th>\n",
       "      <th>against_dragon</th>\n",
       "      <th>against_electric</th>\n",
       "      <th>against_fairy</th>\n",
       "      <th>against_fight</th>\n",
       "      <th>against_fire</th>\n",
       "      <th>against_flying</th>\n",
       "      <th>...</th>\n",
       "      <th>percentage_male</th>\n",
       "      <th>pokedex_number</th>\n",
       "      <th>sp_attack</th>\n",
       "      <th>sp_defense</th>\n",
       "      <th>speed</th>\n",
       "      <th>type1</th>\n",
       "      <th>type2</th>\n",
       "      <th>weight_kg</th>\n",
       "      <th>generation</th>\n",
       "      <th>is_legendary</th>\n",
       "    </tr>\n",
       "  </thead>\n",
       "  <tbody>\n",
       "    <tr>\n",
       "      <th>0</th>\n",
       "      <td>Bulbasaur</td>\n",
       "      <td>['Overgrow', 'Chlorophyll']</td>\n",
       "      <td>1.0</td>\n",
       "      <td>1.0</td>\n",
       "      <td>1.0</td>\n",
       "      <td>0.5</td>\n",
       "      <td>0.5</td>\n",
       "      <td>0.5</td>\n",
       "      <td>2.0</td>\n",
       "      <td>2.0</td>\n",
       "      <td>...</td>\n",
       "      <td>88.1</td>\n",
       "      <td>1</td>\n",
       "      <td>65</td>\n",
       "      <td>65</td>\n",
       "      <td>45</td>\n",
       "      <td>grass</td>\n",
       "      <td>poison</td>\n",
       "      <td>6.9</td>\n",
       "      <td>1</td>\n",
       "      <td>0</td>\n",
       "    </tr>\n",
       "    <tr>\n",
       "      <th>1</th>\n",
       "      <td>Ivysaur</td>\n",
       "      <td>['Overgrow', 'Chlorophyll']</td>\n",
       "      <td>1.0</td>\n",
       "      <td>1.0</td>\n",
       "      <td>1.0</td>\n",
       "      <td>0.5</td>\n",
       "      <td>0.5</td>\n",
       "      <td>0.5</td>\n",
       "      <td>2.0</td>\n",
       "      <td>2.0</td>\n",
       "      <td>...</td>\n",
       "      <td>88.1</td>\n",
       "      <td>2</td>\n",
       "      <td>80</td>\n",
       "      <td>80</td>\n",
       "      <td>60</td>\n",
       "      <td>grass</td>\n",
       "      <td>poison</td>\n",
       "      <td>13.0</td>\n",
       "      <td>1</td>\n",
       "      <td>0</td>\n",
       "    </tr>\n",
       "    <tr>\n",
       "      <th>2</th>\n",
       "      <td>Venusaur</td>\n",
       "      <td>['Overgrow', 'Chlorophyll']</td>\n",
       "      <td>1.0</td>\n",
       "      <td>1.0</td>\n",
       "      <td>1.0</td>\n",
       "      <td>0.5</td>\n",
       "      <td>0.5</td>\n",
       "      <td>0.5</td>\n",
       "      <td>2.0</td>\n",
       "      <td>2.0</td>\n",
       "      <td>...</td>\n",
       "      <td>88.1</td>\n",
       "      <td>3</td>\n",
       "      <td>122</td>\n",
       "      <td>120</td>\n",
       "      <td>80</td>\n",
       "      <td>grass</td>\n",
       "      <td>poison</td>\n",
       "      <td>100.0</td>\n",
       "      <td>1</td>\n",
       "      <td>0</td>\n",
       "    </tr>\n",
       "    <tr>\n",
       "      <th>3</th>\n",
       "      <td>Charmander</td>\n",
       "      <td>['Blaze', 'Solar Power']</td>\n",
       "      <td>0.5</td>\n",
       "      <td>1.0</td>\n",
       "      <td>1.0</td>\n",
       "      <td>1.0</td>\n",
       "      <td>0.5</td>\n",
       "      <td>1.0</td>\n",
       "      <td>0.5</td>\n",
       "      <td>1.0</td>\n",
       "      <td>...</td>\n",
       "      <td>88.1</td>\n",
       "      <td>4</td>\n",
       "      <td>60</td>\n",
       "      <td>50</td>\n",
       "      <td>65</td>\n",
       "      <td>fire</td>\n",
       "      <td>NaN</td>\n",
       "      <td>8.5</td>\n",
       "      <td>1</td>\n",
       "      <td>0</td>\n",
       "    </tr>\n",
       "    <tr>\n",
       "      <th>4</th>\n",
       "      <td>Charmeleon</td>\n",
       "      <td>['Blaze', 'Solar Power']</td>\n",
       "      <td>0.5</td>\n",
       "      <td>1.0</td>\n",
       "      <td>1.0</td>\n",
       "      <td>1.0</td>\n",
       "      <td>0.5</td>\n",
       "      <td>1.0</td>\n",
       "      <td>0.5</td>\n",
       "      <td>1.0</td>\n",
       "      <td>...</td>\n",
       "      <td>88.1</td>\n",
       "      <td>5</td>\n",
       "      <td>80</td>\n",
       "      <td>65</td>\n",
       "      <td>80</td>\n",
       "      <td>fire</td>\n",
       "      <td>NaN</td>\n",
       "      <td>19.0</td>\n",
       "      <td>1</td>\n",
       "      <td>0</td>\n",
       "    </tr>\n",
       "  </tbody>\n",
       "</table>\n",
       "<p>5 rows × 41 columns</p>\n",
       "</div>"
      ],
      "text/plain": [
       "         name                    abilities  against_bug  against_dark  \\\n",
       "0   Bulbasaur  ['Overgrow', 'Chlorophyll']          1.0           1.0   \n",
       "1     Ivysaur  ['Overgrow', 'Chlorophyll']          1.0           1.0   \n",
       "2    Venusaur  ['Overgrow', 'Chlorophyll']          1.0           1.0   \n",
       "3  Charmander     ['Blaze', 'Solar Power']          0.5           1.0   \n",
       "4  Charmeleon     ['Blaze', 'Solar Power']          0.5           1.0   \n",
       "\n",
       "   against_dragon  against_electric  against_fairy  against_fight  \\\n",
       "0             1.0               0.5            0.5            0.5   \n",
       "1             1.0               0.5            0.5            0.5   \n",
       "2             1.0               0.5            0.5            0.5   \n",
       "3             1.0               1.0            0.5            1.0   \n",
       "4             1.0               1.0            0.5            1.0   \n",
       "\n",
       "   against_fire  against_flying  ...  percentage_male  pokedex_number  \\\n",
       "0           2.0             2.0  ...             88.1               1   \n",
       "1           2.0             2.0  ...             88.1               2   \n",
       "2           2.0             2.0  ...             88.1               3   \n",
       "3           0.5             1.0  ...             88.1               4   \n",
       "4           0.5             1.0  ...             88.1               5   \n",
       "\n",
       "   sp_attack  sp_defense  speed  type1   type2  weight_kg  generation  \\\n",
       "0         65          65     45  grass  poison        6.9           1   \n",
       "1         80          80     60  grass  poison       13.0           1   \n",
       "2        122         120     80  grass  poison      100.0           1   \n",
       "3         60          50     65   fire     NaN        8.5           1   \n",
       "4         80          65     80   fire     NaN       19.0           1   \n",
       "\n",
       "   is_legendary  \n",
       "0             0  \n",
       "1             0  \n",
       "2             0  \n",
       "3             0  \n",
       "4             0  \n",
       "\n",
       "[5 rows x 41 columns]"
      ]
     },
     "execution_count": 400,
     "metadata": {},
     "output_type": "execute_result"
    }
   ],
   "source": [
    "pokemon_data = pd.read_csv(\"pokemon_1.csv\")\n",
    "\n",
    "#Moving the name of the Pokémon to the first column \n",
    "pokemon_data = pokemon_data[['name'] + [col for col in pokemon_data.columns if col != 'name']]\n",
    "pokemon_data.head()"
   ]
  },
  {
   "cell_type": "markdown",
   "id": "ac9d6f20",
   "metadata": {
    "papermill": {
     "duration": 0.001423,
     "end_time": "2025-03-02T23:59:38.024213",
     "exception": false,
     "start_time": "2025-03-02T23:59:38.022790",
     "status": "completed"
    },
    "tags": []
   },
   "source": [
    "Below we look at number of observations of our dataset and the total number of legendary Pokémon:"
   ]
  },
  {
   "cell_type": "code",
   "execution_count": 401,
   "id": "212c4c5c",
   "metadata": {
    "execution": {
     "iopub.execute_input": "2025-03-02T23:59:38.028236Z",
     "iopub.status.busy": "2025-03-02T23:59:38.027906Z",
     "iopub.status.idle": "2025-03-02T23:59:38.032718Z",
     "shell.execute_reply": "2025-03-02T23:59:38.031931Z"
    },
    "papermill": {
     "duration": 0.008316,
     "end_time": "2025-03-02T23:59:38.033966",
     "exception": false,
     "start_time": "2025-03-02T23:59:38.025650",
     "status": "completed"
    },
    "tags": []
   },
   "outputs": [
    {
     "data": {
      "text/plain": [
       "801"
      ]
     },
     "execution_count": 401,
     "metadata": {},
     "output_type": "execute_result"
    }
   ],
   "source": [
    "len(pokemon_data)"
   ]
  },
  {
   "cell_type": "code",
   "execution_count": 402,
   "id": "a4e23aee",
   "metadata": {
    "execution": {
     "iopub.execute_input": "2025-03-02T23:59:38.038681Z",
     "iopub.status.busy": "2025-03-02T23:59:38.038414Z",
     "iopub.status.idle": "2025-03-02T23:59:38.046865Z",
     "shell.execute_reply": "2025-03-02T23:59:38.046133Z"
    },
    "papermill": {
     "duration": 0.012016,
     "end_time": "2025-03-02T23:59:38.048087",
     "exception": false,
     "start_time": "2025-03-02T23:59:38.036071",
     "status": "completed"
    },
    "tags": []
   },
   "outputs": [
    {
     "data": {
      "text/html": [
       "<div>\n",
       "<style scoped>\n",
       "    .dataframe tbody tr th:only-of-type {\n",
       "        vertical-align: middle;\n",
       "    }\n",
       "\n",
       "    .dataframe tbody tr th {\n",
       "        vertical-align: top;\n",
       "    }\n",
       "\n",
       "    .dataframe thead th {\n",
       "        text-align: right;\n",
       "    }\n",
       "</style>\n",
       "<table border=\"1\" class=\"dataframe\">\n",
       "  <thead>\n",
       "    <tr style=\"text-align: right;\">\n",
       "      <th></th>\n",
       "      <th>name</th>\n",
       "    </tr>\n",
       "  </thead>\n",
       "  <tbody>\n",
       "    <tr>\n",
       "      <th>143</th>\n",
       "      <td>Articuno</td>\n",
       "    </tr>\n",
       "    <tr>\n",
       "      <th>144</th>\n",
       "      <td>Zapdos</td>\n",
       "    </tr>\n",
       "    <tr>\n",
       "      <th>145</th>\n",
       "      <td>Moltres</td>\n",
       "    </tr>\n",
       "    <tr>\n",
       "      <th>149</th>\n",
       "      <td>Mewtwo</td>\n",
       "    </tr>\n",
       "    <tr>\n",
       "      <th>150</th>\n",
       "      <td>Mew</td>\n",
       "    </tr>\n",
       "    <tr>\n",
       "      <th>...</th>\n",
       "      <td>...</td>\n",
       "    </tr>\n",
       "    <tr>\n",
       "      <th>796</th>\n",
       "      <td>Celesteela</td>\n",
       "    </tr>\n",
       "    <tr>\n",
       "      <th>797</th>\n",
       "      <td>Kartana</td>\n",
       "    </tr>\n",
       "    <tr>\n",
       "      <th>798</th>\n",
       "      <td>Guzzlord</td>\n",
       "    </tr>\n",
       "    <tr>\n",
       "      <th>799</th>\n",
       "      <td>Necrozma</td>\n",
       "    </tr>\n",
       "    <tr>\n",
       "      <th>800</th>\n",
       "      <td>Magearna</td>\n",
       "    </tr>\n",
       "  </tbody>\n",
       "</table>\n",
       "<p>70 rows × 1 columns</p>\n",
       "</div>"
      ],
      "text/plain": [
       "           name\n",
       "143    Articuno\n",
       "144      Zapdos\n",
       "145     Moltres\n",
       "149      Mewtwo\n",
       "150         Mew\n",
       "..          ...\n",
       "796  Celesteela\n",
       "797     Kartana\n",
       "798    Guzzlord\n",
       "799    Necrozma\n",
       "800    Magearna\n",
       "\n",
       "[70 rows x 1 columns]"
      ]
     },
     "execution_count": 402,
     "metadata": {},
     "output_type": "execute_result"
    }
   ],
   "source": [
    "legendary_filt = pokemon_data['is_legendary'] == 1\n",
    "pokemon_data.loc[legendary_filt, ['name']]"
   ]
  },
  {
   "attachments": {},
   "cell_type": "markdown",
   "id": "00874dc3",
   "metadata": {},
   "source": [
    "## Preprocessing Data"
   ]
  },
  {
   "cell_type": "code",
   "execution_count": 403,
   "id": "e03a5386",
   "metadata": {},
   "outputs": [],
   "source": [
    "pokemon_data = pokemon_data.sample(frac=1, random_state=0).reset_index(drop=True)\n",
    "\n",
    "#Getting rid of identifiers that do not contribute to prediction\n",
    "pokemon_data.drop(columns=['name', 'japanese_name', 'pokedex_number', 'classfication', 'generation'], inplace=True)\n",
    "\n",
    "pokemon_data = pokemon_data.copy()\n",
    "\n",
    "# One-Hot Encode 'type1' and 'type2'\n",
    "pokemon_data['type2'] = pokemon_data['type2'].fillna('None')\n",
    "pokemon_data = pd.get_dummies(pokemon_data, columns=['type1', 'type2'], drop_first=True)"
   ]
  },
  {
   "cell_type": "code",
   "execution_count": 404,
   "id": "85dc9b18",
   "metadata": {},
   "outputs": [],
   "source": [
    "# Multi-Label Binarization for 'abilities' (splitting abilities into separate binary columns)\n",
    "\n",
    "def convert_to_list(value):\n",
    "    if isinstance(value, str):  \n",
    "        return ast.literal_eval(value)  \n",
    "    return value  \n",
    "\n",
    "# Apply string conversion\n",
    "pokemon_data['abilities'] = pokemon_data['abilities'].apply(convert_to_list)\n",
    "\n",
    "mlb = MultiLabelBinarizer()\n",
    "\n",
    "# Transform the abilities column into a binary matrix\n",
    "abilities_encoded = pd.DataFrame(mlb.fit_transform(pokemon_data['abilities']), columns=mlb.classes_)\n",
    "\n",
    "# Concatenate the new binary columns with the original dataset\n",
    "pokemon_data = pd.concat([pokemon_data, abilities_encoded], axis=1)\n",
    "\n",
    "# Drop the original abilities column\n",
    "pokemon_data.drop(columns=['abilities'], inplace=True)\n"
   ]
  },
  {
   "cell_type": "code",
   "execution_count": 405,
   "id": "9ccd5315",
   "metadata": {},
   "outputs": [],
   "source": [
    "# Preprocessing numerical columns\n",
    "numeric_columns = ['percentage_male', 'height_m', 'weight_kg', 'capture_rate',\n",
    "                   'base_egg_steps', 'experience_growth', 'base_happiness']\n",
    "\n",
    "for col in numeric_columns:\n",
    "    pokemon_data[col] = pd.to_numeric(pokemon_data[col], errors='coerce')  \n",
    "\n",
    "# Fill missing values\n",
    "pokemon_data = pokemon_data.copy()  \n",
    "\n",
    "pokemon_data = pokemon_data.assign(\n",
    "    percentage_male=pokemon_data['percentage_male'].fillna(-1),  # -1 for genderless Pokémon\n",
    "    height_m=pokemon_data['height_m'].fillna(pokemon_data['height_m'].median()),\n",
    "    weight_kg=pokemon_data['weight_kg'].fillna(pokemon_data['weight_kg'].median()),\n",
    "    capture_rate=pokemon_data['capture_rate'].fillna(pokemon_data['capture_rate'].mean()),\n",
    "    base_egg_steps=pokemon_data['base_egg_steps'].fillna(pokemon_data['base_egg_steps'].median()),\n",
    "    experience_growth=pokemon_data['experience_growth'].fillna(pokemon_data['experience_growth'].mean()),\n",
    "    base_happiness=pokemon_data['base_happiness'].fillna(pokemon_data['base_happiness'].median())\n",
    ")\n"
   ]
  },
  {
   "cell_type": "code",
   "execution_count": 406,
   "id": "60e22a11",
   "metadata": {},
   "outputs": [],
   "source": [
    "# exporting preprocessed csv to models\n",
    "pokemon_data.to_csv(\"preprocessed_pokemon_1.csv\", index=False)"
   ]
  }
 ],
 "metadata": {
  "kaggle": {
   "accelerator": "none",
   "dataSources": [
    {
     "datasetId": 2756,
     "sourceId": 4568,
     "sourceType": "datasetVersion"
    }
   ],
   "dockerImageVersionId": 30918,
   "isGpuEnabled": false,
   "isInternetEnabled": false,
   "language": "python",
   "sourceType": "notebook"
  },
  "kernelspec": {
   "display_name": "Python 3",
   "language": "python",
   "name": "python3"
  },
  "language_info": {
   "codemirror_mode": {
    "name": "ipython",
    "version": 3
   },
   "file_extension": ".py",
   "mimetype": "text/x-python",
   "name": "python",
   "nbconvert_exporter": "python",
   "pygments_lexer": "ipython3",
   "version": "3.11.4"
  },
  "papermill": {
   "default_parameters": {},
   "duration": 4.078835,
   "end_time": "2025-03-02T23:59:38.568628",
   "environment_variables": {},
   "exception": null,
   "input_path": "__notebook__.ipynb",
   "output_path": "__notebook__.ipynb",
   "parameters": {},
   "start_time": "2025-03-02T23:59:34.489793",
   "version": "2.6.0"
  }
 },
 "nbformat": 4,
 "nbformat_minor": 5
}
